{
 "cells": [
  {
   "cell_type": "markdown",
   "id": "2e2194bf-0adb-451b-8c6b-f96c4e70835e",
   "metadata": {},
   "source": [
    "## benchmarks for flowsom algorithm, searching for improvements"
   ]
  },
  {
   "cell_type": "code",
   "execution_count": 1,
   "id": "ced8992f-c019-4fb1-9356-5abdfca5a9d3",
   "metadata": {
    "ExecuteTime": {
     "end_time": "2024-05-25T15:10:08.131469Z",
     "start_time": "2024-05-25T15:10:06.416667Z"
    }
   },
   "outputs": [],
   "source": [
    "import timeit\n",
    "from collections.abc import Callable\n",
    "from memory_profiler import memory_usage\n",
    "\n",
    "# imports\n",
    "import numpy as np\n",
    "from flowio import FlowData\n",
    "from sklearn.metrics import v_measure_score\n",
    "\n",
    "import flowsom as fs"
   ]
  },
  {
   "cell_type": "markdown",
   "id": "8c058c0a-6b0d-4745-aa5a-547f15e0aea1",
   "metadata": {},
   "source": [
    "### code from docker to filter out NaN values"
   ]
  },
  {
   "cell_type": "code",
   "execution_count": 2,
   "id": "0ca3bc62-fde9-4614-b17b-bca967ae591f",
   "metadata": {
    "ExecuteTime": {
     "end_time": "2024-05-25T15:10:08.136709Z",
     "start_time": "2024-05-25T15:10:08.132816Z"
    }
   },
   "outputs": [],
   "source": [
    "\n",
    "\n",
    "def read_labelled_fcs(path):\n",
    "    # read in FCS file\n",
    "    fcs_data = FlowData(path)\n",
    "    # convert to numpy array\n",
    "    npy_data = np.reshape(fcs_data.events, (-1, fcs_data.channel_count))\n",
    "    # get label column\n",
    "    # TODO: support more files\n",
    "    y = npy_data[:, -1]\n",
    "    # filter out unlabelled data\n",
    "    mask = ~np.isnan(y)\n",
    "    X = npy_data[mask, :-1]\n",
    "    y = npy_data[mask, -1]\n",
    "    # if no 0 in y, subtract 1 from all labels\n",
    "    # this is to make sure that the labels start at 0, as sklearn clustering algorithms usually output\n",
    "    if 0 not in y:\n",
    "        y = y - 1\n",
    "    # cast y to int\n",
    "    y = y.astype(np.int32)\n",
    "    return X, y\n",
    "\n",
    "\n",
    "def score_fcs_file(path, flowsom_func,dimensions,cols_to_use,seed) -> float:\n",
    "    # read in fcs file\n",
    "    X, y = read_labelled_fcs(path)\n",
    "\n",
    "    # finding the best number of clusters is not part of this test\n",
    "    # here we use labelled data to find the number of unique labels\n",
    "    n_clusters = np.unique(y).shape[0]\n",
    "\n",
    "    # cluster data and predict labels\n",
    "    fsom = flowsom_func(X, n_clusters = max(n_clusters, dimensions, len(cols_to_use)),xdim=10, ydim=10,cols_to_use=cols_to_use,seed=seed)\n",
    "    y_pred = fsom.metacluster_labels\n",
    "\n",
    "    # because the v_measure_score is independent of the absolute values of the labels\n",
    "    # we don't need to make sure the predicted label values have the same value as the true labels\n",
    "    # the v_measure_score will be the same regardless, as it only depends on homogeneity and completeness\n",
    "    # alternatively, a lookup table from the cluster centers can be used to have a consistent label value mapping\n",
    "    # https://stackoverflow.com/questions/44888415/how-to-set-k-means-clustering-labels-from-highest-to-lowest-with-python\n",
    "    v_measure = v_measure_score(y, y_pred)\n",
    "    print(f\"V-measure score: {v_measure}\")\n",
    "    return v_measure"
   ]
  },
  {
   "cell_type": "code",
   "execution_count": 3,
   "id": "9e2520a8afb9edd3",
   "metadata": {
    "ExecuteTime": {
     "end_time": "2024-05-25T15:10:08.216670Z",
     "start_time": "2024-05-25T15:10:08.137693Z"
    }
   },
   "outputs": [
    {
     "data": {
      "text/html": [
       "<div>\n",
       "<style scoped>\n",
       "    .dataframe tbody tr th:only-of-type {\n",
       "        vertical-align: middle;\n",
       "    }\n",
       "\n",
       "    .dataframe tbody tr th {\n",
       "        vertical-align: top;\n",
       "    }\n",
       "\n",
       "    .dataframe thead th {\n",
       "        text-align: right;\n",
       "    }\n",
       "</style>\n",
       "<table border=\"1\" class=\"dataframe\">\n",
       "  <thead>\n",
       "    <tr style=\"text-align: right;\">\n",
       "      <th></th>\n",
       "      <th>$PnN</th>\n",
       "      <th>$PnS</th>\n",
       "      <th>$PnB</th>\n",
       "      <th>$PnE</th>\n",
       "      <th>$PnR</th>\n",
       "    </tr>\n",
       "    <tr>\n",
       "      <th>n</th>\n",
       "      <th></th>\n",
       "      <th></th>\n",
       "      <th></th>\n",
       "      <th></th>\n",
       "      <th></th>\n",
       "    </tr>\n",
       "  </thead>\n",
       "  <tbody>\n",
       "    <tr>\n",
       "      <th>1</th>\n",
       "      <td>CD45</td>\n",
       "      <td></td>\n",
       "      <td>32</td>\n",
       "      <td>0,0</td>\n",
       "      <td>1024</td>\n",
       "    </tr>\n",
       "    <tr>\n",
       "      <th>2</th>\n",
       "      <td>CD45RA</td>\n",
       "      <td></td>\n",
       "      <td>32</td>\n",
       "      <td>0,0</td>\n",
       "      <td>1024</td>\n",
       "    </tr>\n",
       "    <tr>\n",
       "      <th>3</th>\n",
       "      <td>CD19</td>\n",
       "      <td></td>\n",
       "      <td>32</td>\n",
       "      <td>0,0</td>\n",
       "      <td>1024</td>\n",
       "    </tr>\n",
       "    <tr>\n",
       "      <th>4</th>\n",
       "      <td>CD11b</td>\n",
       "      <td></td>\n",
       "      <td>32</td>\n",
       "      <td>0,0</td>\n",
       "      <td>1024</td>\n",
       "    </tr>\n",
       "    <tr>\n",
       "      <th>5</th>\n",
       "      <td>CD4</td>\n",
       "      <td></td>\n",
       "      <td>32</td>\n",
       "      <td>0,0</td>\n",
       "      <td>1024</td>\n",
       "    </tr>\n",
       "    <tr>\n",
       "      <th>6</th>\n",
       "      <td>CD8</td>\n",
       "      <td></td>\n",
       "      <td>32</td>\n",
       "      <td>0,0</td>\n",
       "      <td>1024</td>\n",
       "    </tr>\n",
       "    <tr>\n",
       "      <th>7</th>\n",
       "      <td>CD34</td>\n",
       "      <td></td>\n",
       "      <td>32</td>\n",
       "      <td>0,0</td>\n",
       "      <td>1024</td>\n",
       "    </tr>\n",
       "    <tr>\n",
       "      <th>8</th>\n",
       "      <td>CD20</td>\n",
       "      <td></td>\n",
       "      <td>32</td>\n",
       "      <td>0,0</td>\n",
       "      <td>1024</td>\n",
       "    </tr>\n",
       "    <tr>\n",
       "      <th>9</th>\n",
       "      <td>CD33</td>\n",
       "      <td></td>\n",
       "      <td>32</td>\n",
       "      <td>0,0</td>\n",
       "      <td>1024</td>\n",
       "    </tr>\n",
       "    <tr>\n",
       "      <th>10</th>\n",
       "      <td>CD123</td>\n",
       "      <td></td>\n",
       "      <td>32</td>\n",
       "      <td>0,0</td>\n",
       "      <td>1024</td>\n",
       "    </tr>\n",
       "    <tr>\n",
       "      <th>11</th>\n",
       "      <td>CD38</td>\n",
       "      <td></td>\n",
       "      <td>32</td>\n",
       "      <td>0,0</td>\n",
       "      <td>1024</td>\n",
       "    </tr>\n",
       "    <tr>\n",
       "      <th>12</th>\n",
       "      <td>CD90</td>\n",
       "      <td></td>\n",
       "      <td>32</td>\n",
       "      <td>0,0</td>\n",
       "      <td>1024</td>\n",
       "    </tr>\n",
       "    <tr>\n",
       "      <th>13</th>\n",
       "      <td>CD3</td>\n",
       "      <td></td>\n",
       "      <td>32</td>\n",
       "      <td>0,0</td>\n",
       "      <td>1024</td>\n",
       "    </tr>\n",
       "    <tr>\n",
       "      <th>14</th>\n",
       "      <td>label</td>\n",
       "      <td></td>\n",
       "      <td>32</td>\n",
       "      <td>0,0</td>\n",
       "      <td>1024</td>\n",
       "    </tr>\n",
       "  </tbody>\n",
       "</table>\n",
       "</div>"
      ],
      "text/plain": [
       "      $PnN $PnS  $PnB $PnE  $PnR\n",
       "n                               \n",
       "1     CD45         32  0,0  1024\n",
       "2   CD45RA         32  0,0  1024\n",
       "3     CD19         32  0,0  1024\n",
       "4    CD11b         32  0,0  1024\n",
       "5      CD4         32  0,0  1024\n",
       "6      CD8         32  0,0  1024\n",
       "7     CD34         32  0,0  1024\n",
       "8     CD20         32  0,0  1024\n",
       "9     CD33         32  0,0  1024\n",
       "10   CD123         32  0,0  1024\n",
       "11    CD38         32  0,0  1024\n",
       "12    CD90         32  0,0  1024\n",
       "13     CD3         32  0,0  1024\n",
       "14   label         32  0,0  1024"
      ]
     },
     "execution_count": 3,
     "metadata": {},
     "output_type": "execute_result"
    }
   ],
   "source": [
    "# simple time benchmark\n",
    "\n",
    "ff = fs.io.read_FCS(\"../data/accuracy_benches/Levine_13dim.fcs\")\n",
    "ff.uns['meta']['channels']"
   ]
  },
  {
   "cell_type": "code",
   "execution_count": 4,
   "id": "9d93502830ec9024",
   "metadata": {
    "ExecuteTime": {
     "end_time": "2024-05-25T15:10:08.224045Z",
     "start_time": "2024-05-25T15:10:08.217514Z"
    }
   },
   "outputs": [
    {
     "data": {
      "text/html": [
       "<div>\n",
       "<style scoped>\n",
       "    .dataframe tbody tr th:only-of-type {\n",
       "        vertical-align: middle;\n",
       "    }\n",
       "\n",
       "    .dataframe tbody tr th {\n",
       "        vertical-align: top;\n",
       "    }\n",
       "\n",
       "    .dataframe thead th {\n",
       "        text-align: right;\n",
       "    }\n",
       "</style>\n",
       "<table border=\"1\" class=\"dataframe\">\n",
       "  <thead>\n",
       "    <tr style=\"text-align: right;\">\n",
       "      <th></th>\n",
       "      <th>n</th>\n",
       "      <th>channel</th>\n",
       "      <th>marker</th>\n",
       "      <th>$PnB</th>\n",
       "      <th>$PnE</th>\n",
       "      <th>$PnR</th>\n",
       "    </tr>\n",
       "  </thead>\n",
       "  <tbody>\n",
       "    <tr>\n",
       "      <th>CD45</th>\n",
       "      <td>1</td>\n",
       "      <td>CD45</td>\n",
       "      <td></td>\n",
       "      <td>32</td>\n",
       "      <td>0,0</td>\n",
       "      <td>1024</td>\n",
       "    </tr>\n",
       "    <tr>\n",
       "      <th>CD45RA</th>\n",
       "      <td>2</td>\n",
       "      <td>CD45RA</td>\n",
       "      <td></td>\n",
       "      <td>32</td>\n",
       "      <td>0,0</td>\n",
       "      <td>1024</td>\n",
       "    </tr>\n",
       "    <tr>\n",
       "      <th>CD19</th>\n",
       "      <td>3</td>\n",
       "      <td>CD19</td>\n",
       "      <td></td>\n",
       "      <td>32</td>\n",
       "      <td>0,0</td>\n",
       "      <td>1024</td>\n",
       "    </tr>\n",
       "    <tr>\n",
       "      <th>CD11b</th>\n",
       "      <td>4</td>\n",
       "      <td>CD11b</td>\n",
       "      <td></td>\n",
       "      <td>32</td>\n",
       "      <td>0,0</td>\n",
       "      <td>1024</td>\n",
       "    </tr>\n",
       "    <tr>\n",
       "      <th>CD4</th>\n",
       "      <td>5</td>\n",
       "      <td>CD4</td>\n",
       "      <td></td>\n",
       "      <td>32</td>\n",
       "      <td>0,0</td>\n",
       "      <td>1024</td>\n",
       "    </tr>\n",
       "    <tr>\n",
       "      <th>CD8</th>\n",
       "      <td>6</td>\n",
       "      <td>CD8</td>\n",
       "      <td></td>\n",
       "      <td>32</td>\n",
       "      <td>0,0</td>\n",
       "      <td>1024</td>\n",
       "    </tr>\n",
       "    <tr>\n",
       "      <th>CD34</th>\n",
       "      <td>7</td>\n",
       "      <td>CD34</td>\n",
       "      <td></td>\n",
       "      <td>32</td>\n",
       "      <td>0,0</td>\n",
       "      <td>1024</td>\n",
       "    </tr>\n",
       "    <tr>\n",
       "      <th>CD20</th>\n",
       "      <td>8</td>\n",
       "      <td>CD20</td>\n",
       "      <td></td>\n",
       "      <td>32</td>\n",
       "      <td>0,0</td>\n",
       "      <td>1024</td>\n",
       "    </tr>\n",
       "    <tr>\n",
       "      <th>CD33</th>\n",
       "      <td>9</td>\n",
       "      <td>CD33</td>\n",
       "      <td></td>\n",
       "      <td>32</td>\n",
       "      <td>0,0</td>\n",
       "      <td>1024</td>\n",
       "    </tr>\n",
       "    <tr>\n",
       "      <th>CD123</th>\n",
       "      <td>10</td>\n",
       "      <td>CD123</td>\n",
       "      <td></td>\n",
       "      <td>32</td>\n",
       "      <td>0,0</td>\n",
       "      <td>1024</td>\n",
       "    </tr>\n",
       "    <tr>\n",
       "      <th>CD38</th>\n",
       "      <td>11</td>\n",
       "      <td>CD38</td>\n",
       "      <td></td>\n",
       "      <td>32</td>\n",
       "      <td>0,0</td>\n",
       "      <td>1024</td>\n",
       "    </tr>\n",
       "    <tr>\n",
       "      <th>CD90</th>\n",
       "      <td>12</td>\n",
       "      <td>CD90</td>\n",
       "      <td></td>\n",
       "      <td>32</td>\n",
       "      <td>0,0</td>\n",
       "      <td>1024</td>\n",
       "    </tr>\n",
       "    <tr>\n",
       "      <th>CD3</th>\n",
       "      <td>13</td>\n",
       "      <td>CD3</td>\n",
       "      <td></td>\n",
       "      <td>32</td>\n",
       "      <td>0,0</td>\n",
       "      <td>1024</td>\n",
       "    </tr>\n",
       "    <tr>\n",
       "      <th>label</th>\n",
       "      <td>14</td>\n",
       "      <td>label</td>\n",
       "      <td></td>\n",
       "      <td>32</td>\n",
       "      <td>0,0</td>\n",
       "      <td>1024</td>\n",
       "    </tr>\n",
       "  </tbody>\n",
       "</table>\n",
       "</div>"
      ],
      "text/plain": [
       "         n channel marker  $PnB $PnE  $PnR\n",
       "CD45     1    CD45           32  0,0  1024\n",
       "CD45RA   2  CD45RA           32  0,0  1024\n",
       "CD19     3    CD19           32  0,0  1024\n",
       "CD11b    4   CD11b           32  0,0  1024\n",
       "CD4      5     CD4           32  0,0  1024\n",
       "CD8      6     CD8           32  0,0  1024\n",
       "CD34     7    CD34           32  0,0  1024\n",
       "CD20     8    CD20           32  0,0  1024\n",
       "CD33     9    CD33           32  0,0  1024\n",
       "CD123   10   CD123           32  0,0  1024\n",
       "CD38    11    CD38           32  0,0  1024\n",
       "CD90    12    CD90           32  0,0  1024\n",
       "CD3     13     CD3           32  0,0  1024\n",
       "label   14   label           32  0,0  1024"
      ]
     },
     "execution_count": 4,
     "metadata": {},
     "output_type": "execute_result"
    }
   ],
   "source": [
    "ff.var"
   ]
  },
  {
   "cell_type": "markdown",
   "id": "28c07f06fa0565",
   "metadata": {},
   "source": [
    "### put together array with markers used"
   ]
  },
  {
   "cell_type": "code",
   "execution_count": 5,
   "id": "5f2a3a55f19c7dda",
   "metadata": {
    "ExecuteTime": {
     "end_time": "2024-05-25T15:10:08.235200Z",
     "start_time": "2024-05-25T15:10:08.225087Z"
    }
   },
   "outputs": [
    {
     "data": {
      "text/plain": [
       "[0, 1, 2, 3, 4, 5, 6, 7, 8, 9, 10, 11, 12]"
      ]
     },
     "execution_count": 5,
     "metadata": {},
     "output_type": "execute_result"
    }
   ],
   "source": [
    "cols = list(range(13))\n",
    "cols"
   ]
  },
  {
   "cell_type": "markdown",
   "id": "10d35314af92d951",
   "metadata": {},
   "source": [
    "### testing flowsom"
   ]
  },
  {
   "cell_type": "code",
   "execution_count": 6,
   "id": "bf456c777ae61cbc",
   "metadata": {
    "ExecuteTime": {
     "end_time": "2024-05-25T15:10:12.309862Z",
     "start_time": "2024-05-25T15:10:08.236016Z"
    }
   },
   "outputs": [
    {
     "name": "stderr",
     "output_type": "stream",
     "text": [
      "\u001b[32m2024-05-26 13:15:05.119\u001b[0m | \u001b[34m\u001b[1mDEBUG   \u001b[0m | \u001b[36mflowsom.main\u001b[0m:\u001b[36m__init__\u001b[0m:\u001b[36m84\u001b[0m - \u001b[34m\u001b[1mReading input.\u001b[0m\n",
      "\u001b[32m2024-05-26 13:15:05.138\u001b[0m | \u001b[34m\u001b[1mDEBUG   \u001b[0m | \u001b[36mflowsom.main\u001b[0m:\u001b[36m__init__\u001b[0m:\u001b[36m86\u001b[0m - \u001b[34m\u001b[1mFitting model: clustering and metaclustering.\u001b[0m\n",
      "\u001b[32m2024-05-26 13:15:08.666\u001b[0m | \u001b[34m\u001b[1mDEBUG   \u001b[0m | \u001b[36mflowsom.main\u001b[0m:\u001b[36m__init__\u001b[0m:\u001b[36m88\u001b[0m - \u001b[34m\u001b[1mUpdating derived values.\u001b[0m\n"
     ]
    },
    {
     "name": "stdout",
     "output_type": "stream",
     "text": [
      "V-measure score: 0.8838722722422866\n"
     ]
    },
    {
     "data": {
      "text/plain": [
       "0.8838722722422866"
      ]
     },
     "execution_count": 6,
     "metadata": {},
     "output_type": "execute_result"
    }
   ],
   "source": [
    "score_fcs_file(\"../data/accuracy_benches/Levine_13dim.fcs\",fs.FlowSOM,10,cols,42)"
   ]
  },
  {
   "cell_type": "markdown",
   "id": "45bb3690-fefc-4a71-b48a-8b8eb911e4e4",
   "metadata": {},
   "source": [
    "### Make benchmarking function for time as well as peak memory"
   ]
  },
  {
   "cell_type": "code",
   "execution_count": 7,
   "id": "7dbe6615-67f0-4b61-86ea-aaba1fd08094",
   "metadata": {
    "ExecuteTime": {
     "end_time": "2024-05-25T15:10:12.312776Z",
     "start_time": "2024-05-25T15:10:12.310629Z"
    }
   },
   "outputs": [],
   "source": [
    "def bench_file(path:str, flowsom_implementation, dimensions:int, cols_to_use:np.ndarray=None, seed:int=None):\n",
    "    \"\"\"\n",
    "    Benchmark a file with the given implementation of flowsom, this includes time and v-measure score\n",
    "    @param path: path to the fcs file\n",
    "    @param flowsom_implementation: implementation of flowsom to use\n",
    "    @param dimensions: number of dimensions to use\n",
    "    @param cols_to_use: columns to use\n",
    "    @param seed: random seed to use\n",
    "    \"\"\"\n",
    "    # read in fcs file\n",
    "    X, y = read_labelled_fcs(path)\n",
    "\n",
    "    # finding the best number of clusters is not part of this test\n",
    "    # here we use labelled data to find the number of unique labels\n",
    "    n_clusters = np.unique(y).shape[0]\n",
    "\n",
    "    # cluster data and predict labels\n",
    "    fsom = []\n",
    "    exec_time = timeit.timeit(lambda: fsom.append(flowsom_implementation(X, n_clusters = max(n_clusters, dimensions, len(cols_to_use)), xdim=10, ydim=10, cols_to_use=cols_to_use, seed=seed)),number=1)\n",
    "    y_pred = fsom[0].metacluster_labels\n",
    "    \n",
    "    # Measure peak memory usage\n",
    "    peak_memory = max(memory_usage(proc=(lambda: flowsom_implementation(X, n_clusters = max(n_clusters, dimensions, len(cols_to_use)), xdim=10, ydim=10, cols_to_use=cols_to_use, seed=seed)), interval=0.1))\n",
    "    \n",
    "    \n",
    "    # because the v_measure_score is independent of the absolute values of the labels\n",
    "    # we don't need to make sure the predicted label values have the same value as the true labels\n",
    "    # the v_measure_score will be the same regardless, as it only depends on homogeneity and completeness\n",
    "    # alternatively, a lookup table from the cluster centers can be used to have a consistent label value mapping\n",
    "    # https://stackoverflow.com/questions/44888415/how-to-set-k-means-clustering-labels-from-highest-to-lowest-with-python\n",
    "    v_measure = v_measure_score(y, y_pred)\n",
    "    print(f\"V-measure score: {v_measure}\")\n",
    "    print(f'Execution time: {exec_time}s')\n",
    "    print(f\"Peak memory usage: {peak_memory:.2f} MiB\")\n",
    "    return (v_measure,exec_time,peak_memory)\n"
   ]
  },
  {
   "cell_type": "code",
   "execution_count": 8,
   "id": "b1196c53-eaa3-4d54-bb2a-b44997fa8d6e",
   "metadata": {
    "ExecuteTime": {
     "end_time": "2024-05-25T15:10:12.315004Z",
     "start_time": "2024-05-25T15:10:12.313410Z"
    }
   },
   "outputs": [
    {
     "name": "stderr",
     "output_type": "stream",
     "text": [
      "\u001b[32m2024-05-26 13:15:09.021\u001b[0m | \u001b[34m\u001b[1mDEBUG   \u001b[0m | \u001b[36mflowsom.main\u001b[0m:\u001b[36m__init__\u001b[0m:\u001b[36m84\u001b[0m - \u001b[34m\u001b[1mReading input.\u001b[0m\n",
      "\u001b[32m2024-05-26 13:15:09.043\u001b[0m | \u001b[34m\u001b[1mDEBUG   \u001b[0m | \u001b[36mflowsom.main\u001b[0m:\u001b[36m__init__\u001b[0m:\u001b[36m86\u001b[0m - \u001b[34m\u001b[1mFitting model: clustering and metaclustering.\u001b[0m\n",
      "\u001b[32m2024-05-26 13:15:11.254\u001b[0m | \u001b[34m\u001b[1mDEBUG   \u001b[0m | \u001b[36mflowsom.main\u001b[0m:\u001b[36m__init__\u001b[0m:\u001b[36m88\u001b[0m - \u001b[34m\u001b[1mUpdating derived values.\u001b[0m\n",
      "\u001b[32m2024-05-26 13:15:11.588\u001b[0m | \u001b[34m\u001b[1mDEBUG   \u001b[0m | \u001b[36mflowsom.main\u001b[0m:\u001b[36m__init__\u001b[0m:\u001b[36m84\u001b[0m - \u001b[34m\u001b[1mReading input.\u001b[0m\n",
      "\u001b[32m2024-05-26 13:15:11.611\u001b[0m | \u001b[34m\u001b[1mDEBUG   \u001b[0m | \u001b[36mflowsom.main\u001b[0m:\u001b[36m__init__\u001b[0m:\u001b[36m86\u001b[0m - \u001b[34m\u001b[1mFitting model: clustering and metaclustering.\u001b[0m\n",
      "\u001b[32m2024-05-26 13:15:13.854\u001b[0m | \u001b[34m\u001b[1mDEBUG   \u001b[0m | \u001b[36mflowsom.main\u001b[0m:\u001b[36m__init__\u001b[0m:\u001b[36m88\u001b[0m - \u001b[34m\u001b[1mUpdating derived values.\u001b[0m\n"
     ]
    },
    {
     "name": "stdout",
     "output_type": "stream",
     "text": [
      "V-measure score: 0.8838722722422866\n",
      "Execution time: 2.549564637000003s\n",
      "Peak memory usage: 567.23 MiB\n"
     ]
    },
    {
     "data": {
      "text/plain": [
       "(0.8838722722422866, 2.549564637000003, 567.2265625)"
      ]
     },
     "execution_count": 8,
     "metadata": {},
     "output_type": "execute_result"
    }
   ],
   "source": [
    "bench_file(\"../data/accuracy_benches/Levine_13dim.fcs\",fs.FlowSOM,10,cols,42)"
   ]
  },
  {
   "cell_type": "markdown",
   "id": "b5f908d1-1993-4271-816d-70a62e0a5b91",
   "metadata": {},
   "source": [
    "### now test different improvements"
   ]
  },
  {
   "cell_type": "code",
   "execution_count": null,
   "id": "44bdcf51-53a4-46a6-bf9f-ef0f125e89fa",
   "metadata": {},
   "outputs": [],
   "source": []
  }
 ],
 "metadata": {
  "kernelspec": {
   "display_name": "Python 3 (ipykernel)",
   "language": "python",
   "name": "python3"
  },
  "language_info": {
   "codemirror_mode": {
    "name": "ipython",
    "version": 3
   },
   "file_extension": ".py",
   "mimetype": "text/x-python",
   "name": "python",
   "nbconvert_exporter": "python",
   "pygments_lexer": "ipython3",
   "version": "3.12.3"
  }
 },
 "nbformat": 4,
 "nbformat_minor": 5
}
