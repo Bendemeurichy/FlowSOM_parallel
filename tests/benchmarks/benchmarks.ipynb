{
 "cells": [
  {
   "cell_type": "markdown",
   "id": "2e2194bf-0adb-451b-8c6b-f96c4e70835e",
   "metadata": {},
   "source": [
    "## benchmarks for flowsom algorithm, searching for improvements"
   ]
  },
  {
   "cell_type": "code",
   "execution_count": 1,
   "id": "ced8992f-c019-4fb1-9356-5abdfca5a9d3",
   "metadata": {
    "ExecuteTime": {
     "end_time": "2024-05-26T13:20:01.399016Z",
     "start_time": "2024-05-26T13:19:57.584978Z"
    }
   },
   "outputs": [],
   "source": [
    "import timeit\n",
    "from collections.abc import Callable\n",
    "from memory_profiler import memory_usage\n",
    "\n",
    "# imports\n",
    "import numpy as np\n",
    "from flowio import FlowData\n",
    "from sklearn.metrics import v_measure_score\n",
    "\n",
    "import flowsom as fs"
   ]
  },
  {
   "cell_type": "markdown",
   "id": "8c058c0a-6b0d-4745-aa5a-547f15e0aea1",
   "metadata": {},
   "source": [
    "### code from docker to filter out NaN values"
   ]
  },
  {
   "cell_type": "code",
   "execution_count": 2,
   "id": "0ca3bc62-fde9-4614-b17b-bca967ae591f",
   "metadata": {
    "ExecuteTime": {
     "end_time": "2024-05-26T13:20:01.404640Z",
     "start_time": "2024-05-26T13:20:01.400227Z"
    }
   },
   "outputs": [],
   "source": [
    "\n",
    "\n",
    "def read_labelled_fcs(path,label_column=-1):\n",
    "    # read in FCS file\n",
    "    fcs_data = FlowData(path)\n",
    "    # convert to numpy array\n",
    "    npy_data = np.reshape(fcs_data.events, (-1, fcs_data.channel_count))\n",
    "    # get label column\n",
    "    # TODO: support more files\n",
    "    y = npy_data[:, label_column]\n",
    "    # filter out unlabelled data\n",
    "    mask = ~np.isnan(y)\n",
    "    X = npy_data[mask, :-1]\n",
    "    y = npy_data[mask, label_column]\n",
    "    # if no 0 in y, subtract 1 from all labels\n",
    "    # this is to make sure that the labels start at 0, as sklearn clustering algorithms usually output\n",
    "    if 0 not in y:\n",
    "        y = y - 1\n",
    "    # cast y to int\n",
    "    y = y.astype(np.int32)\n",
    "    return X, y\n",
    "\n",
    "\n",
    "def score_fcs_file(path, flowsom_func,dimensions,cols_to_use,seed) -> float:\n",
    "    # read in fcs file\n",
    "    X, y = read_labelled_fcs(path)\n",
    "\n",
    "    # finding the best number of clusters is not part of this test\n",
    "    # here we use labelled data to find the number of unique labels\n",
    "    n_clusters = np.unique(y).shape[0]\n",
    "    \n",
    "    # cluster data and predict labels\n",
    "    fsom = flowsom_func(X, n_clusters = max(n_clusters, dimensions, len(cols_to_use)),xdim=10, ydim=10,cols_to_use=cols_to_use,seed=seed)\n",
    "    y_pred = fsom.metacluster_labels\n",
    "\n",
    "    # because the v_measure_score is independent of the absolute values of the labels\n",
    "    # we don't need to make sure the predicted label values have the same value as the true labels\n",
    "    # the v_measure_score will be the same regardless, as it only depends on homogeneity and completeness\n",
    "    # alternatively, a lookup table from the cluster centers can be used to have a consistent label value mapping\n",
    "    # https://stackoverflow.com/questions/44888415/how-to-set-k-means-clustering-labels-from-highest-to-lowest-with-python\n",
    "    v_measure = v_measure_score(y, y_pred)\n",
    "    print(f\"V-measure score: {v_measure}\")\n",
    "    return v_measure"
   ]
  },
  {
   "cell_type": "code",
   "execution_count": 3,
   "id": "9e2520a8afb9edd3",
   "metadata": {
    "ExecuteTime": {
     "end_time": "2024-05-26T13:20:02.392397Z",
     "start_time": "2024-05-26T13:20:01.405724Z"
    }
   },
   "outputs": [
    {
     "data": {
      "text/html": [
       "<div>\n",
       "<style scoped>\n",
       "    .dataframe tbody tr th:only-of-type {\n",
       "        vertical-align: middle;\n",
       "    }\n",
       "\n",
       "    .dataframe tbody tr th {\n",
       "        vertical-align: top;\n",
       "    }\n",
       "\n",
       "    .dataframe thead th {\n",
       "        text-align: right;\n",
       "    }\n",
       "</style>\n",
       "<table border=\"1\" class=\"dataframe\">\n",
       "  <thead>\n",
       "    <tr style=\"text-align: right;\">\n",
       "      <th></th>\n",
       "      <th>$PnN</th>\n",
       "      <th>$PnS</th>\n",
       "      <th>$PnB</th>\n",
       "      <th>$PnE</th>\n",
       "      <th>$PnR</th>\n",
       "    </tr>\n",
       "    <tr>\n",
       "      <th>n</th>\n",
       "      <th></th>\n",
       "      <th></th>\n",
       "      <th></th>\n",
       "      <th></th>\n",
       "      <th></th>\n",
       "    </tr>\n",
       "  </thead>\n",
       "  <tbody>\n",
       "    <tr>\n",
       "      <th>1</th>\n",
       "      <td>FSC-A</td>\n",
       "      <td></td>\n",
       "      <td>32</td>\n",
       "      <td>0,0</td>\n",
       "      <td>1024</td>\n",
       "    </tr>\n",
       "    <tr>\n",
       "      <th>2</th>\n",
       "      <td>SSC-A</td>\n",
       "      <td></td>\n",
       "      <td>32</td>\n",
       "      <td>0,0</td>\n",
       "      <td>1024</td>\n",
       "    </tr>\n",
       "    <tr>\n",
       "      <th>3</th>\n",
       "      <td>FITC-A</td>\n",
       "      <td></td>\n",
       "      <td>32</td>\n",
       "      <td>0,0</td>\n",
       "      <td>1024</td>\n",
       "    </tr>\n",
       "    <tr>\n",
       "      <th>4</th>\n",
       "      <td>PerCP-Cy5-5-A</td>\n",
       "      <td></td>\n",
       "      <td>32</td>\n",
       "      <td>0,0</td>\n",
       "      <td>1024</td>\n",
       "    </tr>\n",
       "    <tr>\n",
       "      <th>5</th>\n",
       "      <td>Pacific Blue-A</td>\n",
       "      <td></td>\n",
       "      <td>32</td>\n",
       "      <td>0,0</td>\n",
       "      <td>1024</td>\n",
       "    </tr>\n",
       "    <tr>\n",
       "      <th>6</th>\n",
       "      <td>Pacifc Orange-A</td>\n",
       "      <td></td>\n",
       "      <td>32</td>\n",
       "      <td>0,0</td>\n",
       "      <td>1024</td>\n",
       "    </tr>\n",
       "    <tr>\n",
       "      <th>7</th>\n",
       "      <td>QDot 605-A</td>\n",
       "      <td></td>\n",
       "      <td>32</td>\n",
       "      <td>0,0</td>\n",
       "      <td>1024</td>\n",
       "    </tr>\n",
       "    <tr>\n",
       "      <th>8</th>\n",
       "      <td>APC-A</td>\n",
       "      <td></td>\n",
       "      <td>32</td>\n",
       "      <td>0,0</td>\n",
       "      <td>1024</td>\n",
       "    </tr>\n",
       "    <tr>\n",
       "      <th>9</th>\n",
       "      <td>Alexa 700-A</td>\n",
       "      <td></td>\n",
       "      <td>32</td>\n",
       "      <td>0,0</td>\n",
       "      <td>1024</td>\n",
       "    </tr>\n",
       "    <tr>\n",
       "      <th>10</th>\n",
       "      <td>PE-A</td>\n",
       "      <td></td>\n",
       "      <td>32</td>\n",
       "      <td>0,0</td>\n",
       "      <td>1024</td>\n",
       "    </tr>\n",
       "    <tr>\n",
       "      <th>11</th>\n",
       "      <td>PE-Cy5-A</td>\n",
       "      <td></td>\n",
       "      <td>32</td>\n",
       "      <td>0,0</td>\n",
       "      <td>1024</td>\n",
       "    </tr>\n",
       "    <tr>\n",
       "      <th>12</th>\n",
       "      <td>PE-Cy7-A</td>\n",
       "      <td></td>\n",
       "      <td>32</td>\n",
       "      <td>0,0</td>\n",
       "      <td>1024</td>\n",
       "    </tr>\n",
       "    <tr>\n",
       "      <th>13</th>\n",
       "      <td>label</td>\n",
       "      <td></td>\n",
       "      <td>32</td>\n",
       "      <td>0,0</td>\n",
       "      <td>1024</td>\n",
       "    </tr>\n",
       "    <tr>\n",
       "      <th>14</th>\n",
       "      <td>sample</td>\n",
       "      <td></td>\n",
       "      <td>32</td>\n",
       "      <td>0,0</td>\n",
       "      <td>1024</td>\n",
       "    </tr>\n",
       "  </tbody>\n",
       "</table>\n",
       "</div>"
      ],
      "text/plain": [
       "               $PnN $PnS  $PnB $PnE  $PnR\n",
       "n                                        \n",
       "1             FSC-A         32  0,0  1024\n",
       "2             SSC-A         32  0,0  1024\n",
       "3            FITC-A         32  0,0  1024\n",
       "4     PerCP-Cy5-5-A         32  0,0  1024\n",
       "5    Pacific Blue-A         32  0,0  1024\n",
       "6   Pacifc Orange-A         32  0,0  1024\n",
       "7        QDot 605-A         32  0,0  1024\n",
       "8             APC-A         32  0,0  1024\n",
       "9       Alexa 700-A         32  0,0  1024\n",
       "10             PE-A         32  0,0  1024\n",
       "11         PE-Cy5-A         32  0,0  1024\n",
       "12         PE-Cy7-A         32  0,0  1024\n",
       "13            label         32  0,0  1024\n",
       "14           sample         32  0,0  1024"
      ]
     },
     "execution_count": 3,
     "metadata": {},
     "output_type": "execute_result"
    }
   ],
   "source": [
    "# simple time benchmark\n",
    "\n",
    "ff = fs.io.read_FCS(\"../data/accuracy_benches/FlowCAP_ND.fcs\")\n",
    "ff.uns['meta']['channels']"
   ]
  },
  {
   "cell_type": "code",
   "execution_count": 4,
   "id": "9d93502830ec9024",
   "metadata": {
    "ExecuteTime": {
     "end_time": "2024-05-26T13:20:02.398939Z",
     "start_time": "2024-05-26T13:20:02.393427Z"
    }
   },
   "outputs": [
    {
     "data": {
      "text/html": [
       "<div>\n",
       "<style scoped>\n",
       "    .dataframe tbody tr th:only-of-type {\n",
       "        vertical-align: middle;\n",
       "    }\n",
       "\n",
       "    .dataframe tbody tr th {\n",
       "        vertical-align: top;\n",
       "    }\n",
       "\n",
       "    .dataframe thead th {\n",
       "        text-align: right;\n",
       "    }\n",
       "</style>\n",
       "<table border=\"1\" class=\"dataframe\">\n",
       "  <thead>\n",
       "    <tr style=\"text-align: right;\">\n",
       "      <th></th>\n",
       "      <th>n</th>\n",
       "      <th>channel</th>\n",
       "      <th>marker</th>\n",
       "      <th>$PnB</th>\n",
       "      <th>$PnE</th>\n",
       "      <th>$PnR</th>\n",
       "    </tr>\n",
       "  </thead>\n",
       "  <tbody>\n",
       "    <tr>\n",
       "      <th>FSC-A</th>\n",
       "      <td>1</td>\n",
       "      <td>FSC-A</td>\n",
       "      <td></td>\n",
       "      <td>32</td>\n",
       "      <td>0,0</td>\n",
       "      <td>1024</td>\n",
       "    </tr>\n",
       "    <tr>\n",
       "      <th>SSC-A</th>\n",
       "      <td>2</td>\n",
       "      <td>SSC-A</td>\n",
       "      <td></td>\n",
       "      <td>32</td>\n",
       "      <td>0,0</td>\n",
       "      <td>1024</td>\n",
       "    </tr>\n",
       "    <tr>\n",
       "      <th>FITC-A</th>\n",
       "      <td>3</td>\n",
       "      <td>FITC-A</td>\n",
       "      <td></td>\n",
       "      <td>32</td>\n",
       "      <td>0,0</td>\n",
       "      <td>1024</td>\n",
       "    </tr>\n",
       "    <tr>\n",
       "      <th>PerCP-Cy5-5-A</th>\n",
       "      <td>4</td>\n",
       "      <td>PerCP-Cy5-5-A</td>\n",
       "      <td></td>\n",
       "      <td>32</td>\n",
       "      <td>0,0</td>\n",
       "      <td>1024</td>\n",
       "    </tr>\n",
       "    <tr>\n",
       "      <th>Pacific Blue-A</th>\n",
       "      <td>5</td>\n",
       "      <td>Pacific Blue-A</td>\n",
       "      <td></td>\n",
       "      <td>32</td>\n",
       "      <td>0,0</td>\n",
       "      <td>1024</td>\n",
       "    </tr>\n",
       "    <tr>\n",
       "      <th>Pacifc Orange-A</th>\n",
       "      <td>6</td>\n",
       "      <td>Pacifc Orange-A</td>\n",
       "      <td></td>\n",
       "      <td>32</td>\n",
       "      <td>0,0</td>\n",
       "      <td>1024</td>\n",
       "    </tr>\n",
       "    <tr>\n",
       "      <th>QDot 605-A</th>\n",
       "      <td>7</td>\n",
       "      <td>QDot 605-A</td>\n",
       "      <td></td>\n",
       "      <td>32</td>\n",
       "      <td>0,0</td>\n",
       "      <td>1024</td>\n",
       "    </tr>\n",
       "    <tr>\n",
       "      <th>APC-A</th>\n",
       "      <td>8</td>\n",
       "      <td>APC-A</td>\n",
       "      <td></td>\n",
       "      <td>32</td>\n",
       "      <td>0,0</td>\n",
       "      <td>1024</td>\n",
       "    </tr>\n",
       "    <tr>\n",
       "      <th>Alexa 700-A</th>\n",
       "      <td>9</td>\n",
       "      <td>Alexa 700-A</td>\n",
       "      <td></td>\n",
       "      <td>32</td>\n",
       "      <td>0,0</td>\n",
       "      <td>1024</td>\n",
       "    </tr>\n",
       "    <tr>\n",
       "      <th>PE-A</th>\n",
       "      <td>10</td>\n",
       "      <td>PE-A</td>\n",
       "      <td></td>\n",
       "      <td>32</td>\n",
       "      <td>0,0</td>\n",
       "      <td>1024</td>\n",
       "    </tr>\n",
       "    <tr>\n",
       "      <th>PE-Cy5-A</th>\n",
       "      <td>11</td>\n",
       "      <td>PE-Cy5-A</td>\n",
       "      <td></td>\n",
       "      <td>32</td>\n",
       "      <td>0,0</td>\n",
       "      <td>1024</td>\n",
       "    </tr>\n",
       "    <tr>\n",
       "      <th>PE-Cy7-A</th>\n",
       "      <td>12</td>\n",
       "      <td>PE-Cy7-A</td>\n",
       "      <td></td>\n",
       "      <td>32</td>\n",
       "      <td>0,0</td>\n",
       "      <td>1024</td>\n",
       "    </tr>\n",
       "    <tr>\n",
       "      <th>label</th>\n",
       "      <td>13</td>\n",
       "      <td>label</td>\n",
       "      <td></td>\n",
       "      <td>32</td>\n",
       "      <td>0,0</td>\n",
       "      <td>1024</td>\n",
       "    </tr>\n",
       "    <tr>\n",
       "      <th>sample</th>\n",
       "      <td>14</td>\n",
       "      <td>sample</td>\n",
       "      <td></td>\n",
       "      <td>32</td>\n",
       "      <td>0,0</td>\n",
       "      <td>1024</td>\n",
       "    </tr>\n",
       "  </tbody>\n",
       "</table>\n",
       "</div>"
      ],
      "text/plain": [
       "                  n          channel marker  $PnB $PnE  $PnR\n",
       "FSC-A             1            FSC-A           32  0,0  1024\n",
       "SSC-A             2            SSC-A           32  0,0  1024\n",
       "FITC-A            3           FITC-A           32  0,0  1024\n",
       "PerCP-Cy5-5-A     4    PerCP-Cy5-5-A           32  0,0  1024\n",
       "Pacific Blue-A    5   Pacific Blue-A           32  0,0  1024\n",
       "Pacifc Orange-A   6  Pacifc Orange-A           32  0,0  1024\n",
       "QDot 605-A        7       QDot 605-A           32  0,0  1024\n",
       "APC-A             8            APC-A           32  0,0  1024\n",
       "Alexa 700-A       9      Alexa 700-A           32  0,0  1024\n",
       "PE-A             10             PE-A           32  0,0  1024\n",
       "PE-Cy5-A         11         PE-Cy5-A           32  0,0  1024\n",
       "PE-Cy7-A         12         PE-Cy7-A           32  0,0  1024\n",
       "label            13            label           32  0,0  1024\n",
       "sample           14           sample           32  0,0  1024"
      ]
     },
     "execution_count": 4,
     "metadata": {},
     "output_type": "execute_result"
    }
   ],
   "source": [
    "ff.var"
   ]
  },
  {
   "cell_type": "markdown",
   "id": "28c07f06fa0565",
   "metadata": {},
   "source": [
    "### put together array with markers used"
   ]
  },
  {
   "cell_type": "code",
   "execution_count": null,
   "id": "5f2a3a55f19c7dda",
   "metadata": {
    "ExecuteTime": {
     "end_time": "2024-05-25T15:10:08.235200Z",
     "start_time": "2024-05-25T15:10:08.225087Z"
    }
   },
   "outputs": [],
   "source": []
  },
  {
   "cell_type": "markdown",
   "id": "10d35314af92d951",
   "metadata": {},
   "source": [
    "### testing flowsom"
   ]
  },
  {
   "cell_type": "code",
   "execution_count": 5,
   "id": "bf456c777ae61cbc",
   "metadata": {
    "ExecuteTime": {
     "end_time": "2024-05-25T15:10:12.309862Z",
     "start_time": "2024-05-25T15:10:08.236016Z"
    }
   },
   "outputs": [
    {
     "name": "stderr",
     "output_type": "stream",
     "text": [
      "\u001b[32m2024-05-27 11:47:11.369\u001b[0m | \u001b[34m\u001b[1mDEBUG   \u001b[0m | \u001b[36mflowsom.main\u001b[0m:\u001b[36m__init__\u001b[0m:\u001b[36m84\u001b[0m - \u001b[34m\u001b[1mReading input.\u001b[0m\n",
      "\u001b[32m2024-05-27 11:47:11.385\u001b[0m | \u001b[34m\u001b[1mDEBUG   \u001b[0m | \u001b[36mflowsom.main\u001b[0m:\u001b[36m__init__\u001b[0m:\u001b[36m86\u001b[0m - \u001b[34m\u001b[1mFitting model: clustering and metaclustering.\u001b[0m\n"
     ]
    },
    {
     "name": "stdout",
     "output_type": "stream",
     "text": [
      "SOM training took: 2.120572 seconds.\n"
     ]
    },
    {
     "name": "stderr",
     "output_type": "stream",
     "text": [
      "\u001b[32m2024-05-27 11:47:14.349\u001b[0m | \u001b[34m\u001b[1mDEBUG   \u001b[0m | \u001b[36mflowsom.main\u001b[0m:\u001b[36m__init__\u001b[0m:\u001b[36m88\u001b[0m - \u001b[34m\u001b[1mUpdating derived values.\u001b[0m\n"
     ]
    },
    {
     "name": "stdout",
     "output_type": "stream",
     "text": [
      "V-measure score: 0.8200886214874876\n"
     ]
    },
    {
     "data": {
      "text/plain": [
       "0.8200886214874876"
      ]
     },
     "execution_count": 5,
     "metadata": {},
     "output_type": "execute_result"
    }
   ],
   "source": [
    "cols = list(range(13))\n",
    "score_fcs_file(\"../data/accuracy_benches/Levine_13dim.fcs\",fs.FlowSOM,13,cols,None)"
   ]
  },
  {
   "cell_type": "markdown",
   "id": "45bb3690-fefc-4a71-b48a-8b8eb911e4e4",
   "metadata": {},
   "source": [
    "### Make benchmarking function for time as well as peak memory"
   ]
  },
  {
   "cell_type": "code",
   "execution_count": 6,
   "id": "7dbe6615-67f0-4b61-86ea-aaba1fd08094",
   "metadata": {
    "ExecuteTime": {
     "end_time": "2024-05-25T15:10:12.312776Z",
     "start_time": "2024-05-25T15:10:12.310629Z"
    }
   },
   "outputs": [],
   "source": [
    "def bench_file(path:str, flowsom_implementation, dimensions:int, label_col=-1,cols_to_use:np.ndarray=None, seed:int=None):\n",
    "    \"\"\"\n",
    "    Benchmark a file with the given implementation of flowsom, this includes time and v-measure score\n",
    "    @param path: path to the fcs file\n",
    "    @param flowsom_implementation: implementation of flowsom to use\n",
    "    @param dimensions: number of dimensions to use\n",
    "    @param cols_to_use: columns to use\n",
    "    @param seed: random seed to use\n",
    "    \"\"\"\n",
    "    # read in fcs file\n",
    "    X, y = read_labelled_fcs(path,label_col)\n",
    "    \n",
    "    # finding the best number of clusters is not part of this test\n",
    "    # here we use labelled data to find the number of unique labels\n",
    "    n_clusters = np.unique(y).shape[0]\n",
    "\n",
    "    # cluster data and predict labels\n",
    "    fsom = []\n",
    "    exec_time = timeit.timeit(lambda: fsom.append(flowsom_implementation(X, n_clusters = max(n_clusters, dimensions, len(cols_to_use)), xdim=10, ydim=10, cols_to_use=cols_to_use, seed=seed)),number=1)\n",
    "    y_pred = fsom[0].metacluster_labels\n",
    "    \n",
    "    # Measure peak memory usage\n",
    "    peak_memory = max(memory_usage(proc=(lambda: flowsom_implementation(X, n_clusters = max(n_clusters, dimensions, len(cols_to_use)), xdim=10, ydim=10, cols_to_use=cols_to_use, seed=seed)), interval=0.1))\n",
    "    \n",
    "    \n",
    "    # because the v_measure_score is independent of the absolute values of the labels\n",
    "    # we don't need to make sure the predicted label values have the same value as the true labels\n",
    "    # the v_measure_score will be the same regardless, as it only depends on homogeneity and completeness\n",
    "    # alternatively, a lookup table from the cluster centers can be used to have a consistent label value mapping\n",
    "    # https://stackoverflow.com/questions/44888415/how-to-set-k-means-clustering-labels-from-highest-to-lowest-with-python\n",
    "    v_measure = v_measure_score(y, y_pred)\n",
    "    print(f\"V-measure score: {v_measure}\")\n",
    "    print(f'Execution time: {exec_time}s')\n",
    "    print(f\"Peak memory usage: {peak_memory:.2f} MiB\")\n",
    "    return (v_measure,exec_time,peak_memory)\n"
   ]
  },
  {
   "cell_type": "code",
   "execution_count": 10,
   "id": "b1196c53-eaa3-4d54-bb2a-b44997fa8d6e",
   "metadata": {
    "ExecuteTime": {
     "end_time": "2024-05-25T15:10:12.315004Z",
     "start_time": "2024-05-25T15:10:12.313410Z"
    }
   },
   "outputs": [
    {
     "name": "stderr",
     "output_type": "stream",
     "text": [
      "\u001b[32m2024-05-27 12:00:47.967\u001b[0m | \u001b[34m\u001b[1mDEBUG   \u001b[0m | \u001b[36mflowsom.main\u001b[0m:\u001b[36m__init__\u001b[0m:\u001b[36m84\u001b[0m - \u001b[34m\u001b[1mReading input.\u001b[0m\n",
      "\u001b[32m2024-05-27 12:00:47.987\u001b[0m | \u001b[34m\u001b[1mDEBUG   \u001b[0m | \u001b[36mflowsom.main\u001b[0m:\u001b[36m__init__\u001b[0m:\u001b[36m86\u001b[0m - \u001b[34m\u001b[1mFitting model: clustering and metaclustering.\u001b[0m\n"
     ]
    },
    {
     "name": "stdout",
     "output_type": "stream",
     "text": [
      "SOM training took: 0.883817 seconds.\n"
     ]
    },
    {
     "name": "stderr",
     "output_type": "stream",
     "text": [
      "\u001b[32m2024-05-27 12:00:49.181\u001b[0m | \u001b[34m\u001b[1mDEBUG   \u001b[0m | \u001b[36mflowsom.main\u001b[0m:\u001b[36m__init__\u001b[0m:\u001b[36m88\u001b[0m - \u001b[34m\u001b[1mUpdating derived values.\u001b[0m\n",
      "\u001b[32m2024-05-27 12:00:49.502\u001b[0m | \u001b[34m\u001b[1mDEBUG   \u001b[0m | \u001b[36mflowsom.main\u001b[0m:\u001b[36m__init__\u001b[0m:\u001b[36m84\u001b[0m - \u001b[34m\u001b[1mReading input.\u001b[0m\n",
      "\u001b[32m2024-05-27 12:00:49.523\u001b[0m | \u001b[34m\u001b[1mDEBUG   \u001b[0m | \u001b[36mflowsom.main\u001b[0m:\u001b[36m__init__\u001b[0m:\u001b[36m86\u001b[0m - \u001b[34m\u001b[1mFitting model: clustering and metaclustering.\u001b[0m\n"
     ]
    },
    {
     "name": "stdout",
     "output_type": "stream",
     "text": [
      "SOM training took: 0.883158 seconds.\n"
     ]
    },
    {
     "name": "stderr",
     "output_type": "stream",
     "text": [
      "\u001b[32m2024-05-27 12:00:50.730\u001b[0m | \u001b[34m\u001b[1mDEBUG   \u001b[0m | \u001b[36mflowsom.main\u001b[0m:\u001b[36m__init__\u001b[0m:\u001b[36m88\u001b[0m - \u001b[34m\u001b[1mUpdating derived values.\u001b[0m\n"
     ]
    },
    {
     "name": "stdout",
     "output_type": "stream",
     "text": [
      "V-measure score: 0.8540181895789065\n",
      "Execution time: 1.4985259909990418s\n",
      "Peak memory usage: 1192.49 MiB\n"
     ]
    },
    {
     "data": {
      "text/plain": [
       "(0.8540181895789065, 1.4985259909990418, 1192.48828125)"
      ]
     },
     "execution_count": 10,
     "metadata": {},
     "output_type": "execute_result"
    }
   ],
   "source": [
    "cols = list(range(13))\n",
    "bench_file(\"../data/accuracy_benches/Levine_13dim.fcs\",fs.FlowSOM,13,cols_to_use=cols)"
   ]
  },
  {
   "cell_type": "markdown",
   "id": "b5f908d1-1993-4271-816d-70a62e0a5b91",
   "metadata": {},
   "source": [
    "### now test different improvements"
   ]
  },
  {
   "cell_type": "code",
   "execution_count": 8,
   "id": "44bdcf51-53a4-46a6-bf9f-ef0f125e89fa",
   "metadata": {},
   "outputs": [],
   "source": [
    "# cols = list(range(2,12))\n",
    "# bench_file(\"../data/accuracy_benches/FlowCAP_ND.fcs\",fs.FlowSOM,10,-2,cols)"
   ]
  },
  {
   "cell_type": "code",
   "execution_count": null,
   "id": "6f7791eb-bcdf-4cd6-957a-f1a25b40b3da",
   "metadata": {},
   "outputs": [],
   "source": []
  }
 ],
 "metadata": {
  "kernelspec": {
   "display_name": "Python 3 (ipykernel)",
   "language": "python",
   "name": "python3"
  },
  "language_info": {
   "codemirror_mode": {
    "name": "ipython",
    "version": 3
   },
   "file_extension": ".py",
   "mimetype": "text/x-python",
   "name": "python",
   "nbconvert_exporter": "python",
   "pygments_lexer": "ipython3",
   "version": "3.12.3"
  }
 },
 "nbformat": 4,
 "nbformat_minor": 5
}
