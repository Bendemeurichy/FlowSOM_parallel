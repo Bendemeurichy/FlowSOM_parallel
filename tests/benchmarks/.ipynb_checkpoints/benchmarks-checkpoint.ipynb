{
 "cells": [
  {
   "cell_type": "markdown",
   "id": "2e2194bf-0adb-451b-8c6b-f96c4e70835e",
   "metadata": {},
   "source": [
    "## benchmarks for flowsom algorithm, searching for improvements"
   ]
  },
  {
   "cell_type": "code",
   "execution_count": 1,
   "id": "ced8992f-c019-4fb1-9356-5abdfca5a9d3",
   "metadata": {
    "ExecuteTime": {
     "end_time": "2024-05-26T13:20:01.399016Z",
     "start_time": "2024-05-26T13:19:57.584978Z"
    }
   },
   "source": [
    "import timeit\n",
    "from collections.abc import Callable\n",
    "from memory_profiler import memory_usage\n",
    "\n",
    "# imports\n",
    "import numpy as np\n",
    "from flowio import FlowData\n",
    "from sklearn.metrics import v_measure_score\n",
    "\n",
    "import flowsom as fs"
   ],
   "outputs": []
  },
  {
   "cell_type": "markdown",
   "id": "8c058c0a-6b0d-4745-aa5a-547f15e0aea1",
   "metadata": {},
   "source": [
    "### code from docker to filter out NaN values"
   ]
  },
  {
   "cell_type": "code",
   "execution_count": 2,
   "id": "0ca3bc62-fde9-4614-b17b-bca967ae591f",
   "metadata": {
    "ExecuteTime": {
     "end_time": "2024-05-26T13:20:01.404640Z",
     "start_time": "2024-05-26T13:20:01.400227Z"
    }
   },
   "source": [
    "\n",
    "\n",
    "def read_labelled_fcs(path,label_column=-1):\n",
    "    # read in FCS file\n",
    "    fcs_data = FlowData(path)\n",
    "    # convert to numpy array\n",
    "    npy_data = np.reshape(fcs_data.events, (-1, fcs_data.channel_count))\n",
    "    # get label column\n",
    "    # TODO: support more files\n",
    "    y = npy_data[:, label_column]\n",
    "    # filter out unlabelled data\n",
    "    mask = ~np.isnan(y)\n",
    "    X = npy_data[mask, :-1]\n",
    "    y = npy_data[mask, label_column]\n",
    "    # if no 0 in y, subtract 1 from all labels\n",
    "    # this is to make sure that the labels start at 0, as sklearn clustering algorithms usually output\n",
    "    if 0 not in y:\n",
    "        y = y - 1\n",
    "    # cast y to int\n",
    "    y = y.astype(np.int32)\n",
    "    return X, y\n",
    "\n",
    "\n",
    "def score_fcs_file(path, flowsom_func,dimensions,cols_to_use,seed) -> float:\n",
    "    # read in fcs file\n",
    "    X, y = read_labelled_fcs(path)\n",
    "\n",
    "    # finding the best number of clusters is not part of this test\n",
    "    # here we use labelled data to find the number of unique labels\n",
    "    n_clusters = np.unique(y).shape[0]\n",
    "    \n",
    "    # cluster data and predict labels\n",
    "    fsom = flowsom_func(X, n_clusters = max(n_clusters, dimensions, len(cols_to_use)),xdim=10, ydim=10,cols_to_use=cols_to_use,seed=seed)\n",
    "    y_pred = fsom.metacluster_labels\n",
    "\n",
    "    # because the v_measure_score is independent of the absolute values of the labels\n",
    "    # we don't need to make sure the predicted label values have the same value as the true labels\n",
    "    # the v_measure_score will be the same regardless, as it only depends on homogeneity and completeness\n",
    "    # alternatively, a lookup table from the cluster centers can be used to have a consistent label value mapping\n",
    "    # https://stackoverflow.com/questions/44888415/how-to-set-k-means-clustering-labels-from-highest-to-lowest-with-python\n",
    "    v_measure = v_measure_score(y, y_pred)\n",
    "    print(f\"V-measure score: {v_measure}\")\n",
    "    return v_measure"
   ],
   "outputs": []
  },
  {
   "cell_type": "code",
   "execution_count": 3,
   "id": "9e2520a8afb9edd3",
   "metadata": {
    "ExecuteTime": {
     "end_time": "2024-05-26T13:20:02.392397Z",
     "start_time": "2024-05-26T13:20:01.405724Z"
    }
   },
   "source": [
    "# simple time benchmark\n",
    "\n",
    "ff = fs.io.read_FCS(\"../data/accuracy_benches/FlowCAP_ND.fcs\")\n",
    "ff.uns['meta']['channels']"
   ],
   "outputs": []
  },
  {
   "cell_type": "code",
   "execution_count": 4,
   "id": "9d93502830ec9024",
   "metadata": {
    "ExecuteTime": {
     "end_time": "2024-05-26T13:20:02.398939Z",
     "start_time": "2024-05-26T13:20:02.393427Z"
    }
   },
   "source": [
    "ff.var"
   ],
   "outputs": []
  },
  {
   "cell_type": "markdown",
   "id": "28c07f06fa0565",
   "metadata": {},
   "source": [
    "### put together array with markers used"
   ]
  },
  {
   "cell_type": "code",
   "execution_count": null,
   "id": "5f2a3a55f19c7dda",
   "metadata": {
    "ExecuteTime": {
     "end_time": "2024-05-25T15:10:08.235200Z",
     "start_time": "2024-05-25T15:10:08.225087Z"
    }
   },
   "source": [],
   "outputs": []
  },
  {
   "cell_type": "markdown",
   "id": "10d35314af92d951",
   "metadata": {},
   "source": [
    "### testing flowsom"
   ]
  },
  {
   "cell_type": "code",
   "execution_count": 5,
   "id": "bf456c777ae61cbc",
   "metadata": {
    "ExecuteTime": {
     "end_time": "2024-05-25T15:10:12.309862Z",
     "start_time": "2024-05-25T15:10:08.236016Z"
    }
   },
   "source": [
    "cols = list(range(13))\n",
    "score_fcs_file(\"../data/accuracy_benches/Levine_13dim.fcs\",fs.FlowSOM,13,cols,None)"
   ],
   "outputs": []
  },
  {
   "cell_type": "markdown",
   "id": "45bb3690-fefc-4a71-b48a-8b8eb911e4e4",
   "metadata": {},
   "source": [
    "### Make benchmarking function for time as well as peak memory"
   ]
  },
  {
   "cell_type": "code",
   "execution_count": 6,
   "id": "7dbe6615-67f0-4b61-86ea-aaba1fd08094",
   "metadata": {
    "ExecuteTime": {
     "end_time": "2024-05-25T15:10:12.312776Z",
     "start_time": "2024-05-25T15:10:12.310629Z"
    }
   },
   "source": [
    "def bench_file(path:str, flowsom_implementation, dimensions:int, label_col=-1,cols_to_use:np.ndarray=None, seed:int=None):\n",
    "    \"\"\"\n",
    "    Benchmark a file with the given implementation of flowsom, this includes time and v-measure score\n",
    "    @param path: path to the fcs file\n",
    "    @param flowsom_implementation: implementation of flowsom to use\n",
    "    @param dimensions: number of dimensions to use\n",
    "    @param cols_to_use: columns to use\n",
    "    @param seed: random seed to use\n",
    "    \"\"\"\n",
    "    # read in fcs file\n",
    "    X, y = read_labelled_fcs(path,label_col)\n",
    "    \n",
    "    # finding the best number of clusters is not part of this test\n",
    "    # here we use labelled data to find the number of unique labels\n",
    "    n_clusters = np.unique(y).shape[0]\n",
    "\n",
    "    # cluster data and predict labels\n",
    "    fsom = []\n",
    "    exec_time = timeit.timeit(lambda: fsom.append(flowsom_implementation(X, n_clusters = max(n_clusters, dimensions, len(cols_to_use)), xdim=10, ydim=10, cols_to_use=cols_to_use, seed=seed)),number=1)\n",
    "    y_pred = fsom[0].metacluster_labels\n",
    "    \n",
    "    # Measure peak memory usage\n",
    "    peak_memory = max(memory_usage(proc=(lambda: flowsom_implementation(X, n_clusters = max(n_clusters, dimensions, len(cols_to_use)), xdim=10, ydim=10, cols_to_use=cols_to_use, seed=seed)), interval=0.1))\n",
    "    \n",
    "    \n",
    "    # because the v_measure_score is independent of the absolute values of the labels\n",
    "    # we don't need to make sure the predicted label values have the same value as the true labels\n",
    "    # the v_measure_score will be the same regardless, as it only depends on homogeneity and completeness\n",
    "    # alternatively, a lookup table from the cluster centers can be used to have a consistent label value mapping\n",
    "    # https://stackoverflow.com/questions/44888415/how-to-set-k-means-clustering-labels-from-highest-to-lowest-with-python\n",
    "    v_measure = v_measure_score(y, y_pred)\n",
    "    print(f\"V-measure score: {v_measure}\")\n",
    "    print(f'Execution time: {exec_time}s')\n",
    "    print(f\"Peak memory usage: {peak_memory:.2f} MiB\")\n",
    "    return (v_measure,exec_time,peak_memory)\n"
   ],
   "outputs": []
  },
  {
   "cell_type": "code",
   "execution_count": 7,
   "id": "b1196c53-eaa3-4d54-bb2a-b44997fa8d6e",
   "metadata": {
    "ExecuteTime": {
     "end_time": "2024-05-25T15:10:12.315004Z",
     "start_time": "2024-05-25T15:10:12.313410Z"
    }
   },
   "source": [
    "cols = list(range(13))\n",
    "bench_file(\"../data/accuracy_benches/Levine_13dim.fcs\",fs.FlowSOM,13,cols_to_use=cols,46)"
   ],
   "outputs": []
  },
  {
   "cell_type": "markdown",
   "id": "b5f908d1-1993-4271-816d-70a62e0a5b91",
   "metadata": {},
   "source": [
    "### now test different improvements"
   ]
  },
  {
   "cell_type": "code",
   "execution_count": 8,
   "id": "44bdcf51-53a4-46a6-bf9f-ef0f125e89fa",
   "metadata": {},
   "source": [
    "# cols = list(range(2,12))\n",
    "# bench_file(\"../data/accuracy_benches/FlowCAP_ND.fcs\",fs.FlowSOM,10,-2,cols)"
   ],
   "outputs": []
  },
  {
   "cell_type": "code",
   "execution_count": null,
   "id": "6f7791eb-bcdf-4cd6-957a-f1a25b40b3da",
   "metadata": {},
   "source": [],
   "outputs": []
  }
 ],
 "metadata": {
  "kernelspec": {
   "display_name": "Python 3 (ipykernel)",
   "language": "python",
   "name": "python3"
  },
  "language_info": {
   "codemirror_mode": {
    "name": "ipython",
    "version": 3
   },
   "file_extension": ".py",
   "mimetype": "text/x-python",
   "name": "python",
   "nbconvert_exporter": "python",
   "pygments_lexer": "ipython3",
   "version": "3.12.3"
  }
 },
 "nbformat": 4,
 "nbformat_minor": 5
}
